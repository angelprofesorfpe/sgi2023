{
  "nbformat": 4,
  "nbformat_minor": 0,
  "metadata": {
    "colab": {
      "provenance": [],
      "authorship_tag": "ABX9TyOy+LcF/roJBd+yHkKiHVAM",
      "include_colab_link": true
    },
    "kernelspec": {
      "name": "python3",
      "display_name": "Python 3"
    },
    "language_info": {
      "name": "python"
    }
  },
  "cells": [
    {
      "cell_type": "markdown",
      "metadata": {
        "id": "view-in-github",
        "colab_type": "text"
      },
      "source": [
        "<a href=\"https://colab.research.google.com/github/angelprofesorfpe/sgi2023/blob/main/Untitled2.ipynb\" target=\"_parent\"><img src=\"https://colab.research.google.com/assets/colab-badge.svg\" alt=\"Open In Colab\"/></a>"
      ]
    },
    {
      "cell_type": "code",
      "execution_count": 1,
      "metadata": {
        "id": "7aJRoCX30zj6",
        "colab": {
          "base_uri": "https://localhost:8080/"
        },
        "outputId": "0905d037-5633-4ad8-bbdb-af56acd4e29a"
      },
      "outputs": [
        {
          "output_type": "stream",
          "name": "stdout",
          "text": [
            "lugo\n"
          ]
        }
      ],
      "source": [
        "d = {15002:\"coruña\", 15701:\"santiago de compostela\", 27001: \"lugo\", 36001: \"pontevedra\"}\n",
        "t = (\"industrial\", \"turistica\",\"rural\", \"marinera\")\n",
        "l =[\"norte\", \"sur\", \"sureste\", \"noroeste\"]\n",
        "c = set()\n",
        "fc = frozenset()\n",
        "x1 = d[27001]\n",
        "print(x1)\n"
      ]
    },
    {
      "cell_type": "code",
      "source": [
        "x1 = t[1:3]\n",
        "print (x1)"
      ],
      "metadata": {
        "colab": {
          "base_uri": "https://localhost:8080/"
        },
        "id": "Z3dHkNkK7asL",
        "outputId": "f17ea47b-56ae-494e-9ed8-d0fb9a52faa9"
      },
      "execution_count": 4,
      "outputs": [
        {
          "output_type": "stream",
          "name": "stdout",
          "text": [
            "('turistica', 'rural')\n"
          ]
        }
      ]
    },
    {
      "cell_type": "code",
      "source": [],
      "metadata": {
        "id": "Q90wpc0p8VvX"
      },
      "execution_count": null,
      "outputs": []
    }
  ]
}